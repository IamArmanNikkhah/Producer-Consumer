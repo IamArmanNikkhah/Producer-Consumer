{
  "nbformat": 4,
  "nbformat_minor": 0,
  "metadata": {
    "colab": {
      "name": "producer-consumer.ipynb",
      "provenance": [],
      "collapsed_sections": [],
      "authorship_tag": "ABX9TyPjq/lluXuUBLAhtrhdH89D",
      "include_colab_link": true
    },
    "kernelspec": {
      "name": "python3",
      "display_name": "Python 3"
    },
    "language_info": {
      "name": "python"
    }
  },
  "cells": [
    {
      "cell_type": "markdown",
      "metadata": {
        "id": "view-in-github",
        "colab_type": "text"
      },
      "source": [
        "<a href=\"https://colab.research.google.com/github/IamArmanNikkhah/Producer-Consumer/blob/main/producer_consumer.ipynb\" target=\"_parent\"><img src=\"https://colab.research.google.com/assets/colab-badge.svg\" alt=\"Open In Colab\"/></a>"
      ]
    },
    {
      "cell_type": "code",
      "metadata": {
        "id": "cBDMJdhYrgco"
      },
      "source": [
        "from threading import Thread, Semaphore\n",
        "import time\n",
        "import random\n",
        "import string\n",
        "import math"
      ],
      "execution_count": null,
      "outputs": []
    },
    {
      "cell_type": "code",
      "metadata": {
        "id": "xJGvMSEsm-MW"
      },
      "source": [
        "queue = []         #queue from where producer will produce data and consumer will consume data\n",
        "MAX_NUM = 10       #max limit of the queue\n",
        "mutex = Semaphore(1)\n",
        "empty = Semaphore(MAX_NUM)\n",
        "full  = Semaphore(0)\n",
        "flag  = True"
      ],
      "execution_count": null,
      "outputs": []
    },
    {
      "cell_type": "code",
      "metadata": {
        "id": "kU_a2gpDmRLN"
      },
      "source": [
        "  class SenderWorkerThread(Thread):\n",
        "\n",
        "    def __init__(self):\n",
        "      super(SenderWorkerThread, self).__init__()\n",
        "      self.workerID = \"senderThread-\" + str(math.floor(random.random()*100)) + \"#\"\n",
        "     \n",
        "    def run(self):\n",
        "      global queue\n",
        "      global flag    \n",
        "      while flag:\n",
        "            item = self.random_string_produce()\n",
        "            empty.acquire()\n",
        "            mutex.acquire()  #wait operation to stop consuming  \n",
        "            queue.append(item) \n",
        "            print(str(time.process_time()),self.workerID, \" Finished Writing\") \n",
        "            mutex.release() #signal operation to allow consumer to consume data\n",
        "            full.release()\n",
        "            time.sleep(random.random()) #to allow program to run a bit slower \n",
        "\n",
        "    def random_string_produce(self):\n",
        "      chars=string.ascii_letters + string.digits   \n",
        "      return ''.join(random.choice(chars) for _ in range(random.randint(1,10)))"
      ],
      "execution_count": null,
      "outputs": []
    },
    {
      "cell_type": "code",
      "metadata": {
        "id": "wJmdf0wh1OSh"
      },
      "source": [
        "class SenderMainThread(Thread):\n",
        "  def __init__(self, s = 10, t = 1):\n",
        "    super(SenderMainThread, self).__init__()\n",
        "    self.slots_number = s\n",
        "    self.theards_number = t\n",
        "    self.Workertheards = [SenderWorkerThread() for _ in range(self.theards_number)]\n",
        "  \n",
        "  def run(self):\n",
        "    for i in range(self.theards_number):\n",
        "      self.Workertheards[i].start()         \n",
        "    for j in range(self.theards_number):    # need some work\n",
        "      self.Workertheards[j].join()"
      ],
      "execution_count": null,
      "outputs": []
    },
    {
      "cell_type": "code",
      "metadata": {
        "id": "doOsjCZKCT_g"
      },
      "source": [
        "queue_receivers = []\n",
        "mutex_receivers = Semaphore(1)"
      ],
      "execution_count": null,
      "outputs": []
    },
    {
      "cell_type": "code",
      "metadata": {
        "id": "CH0AbFLvBi05"
      },
      "source": [
        "class ReceiverWorkerThread(Thread):\n",
        "  \n",
        "  def __init__(self):\n",
        "    super(ReceiverWorkerThread, self).__init__()\n",
        "    self.workerID = \"receiverThread-\" + str(math.floor(random.random()*100)) + \"#\"\n",
        "  \n",
        "  def run(self):\n",
        "    global queue\n",
        "    global flag \n",
        "    while flag:\n",
        "      full.acquire()\n",
        "      mutex.acquire()\n",
        "      print(str(time.process_time()),self.workerID, \" started reading\") \n",
        "      item = queue.pop(0)\n",
        "      mutex.release() \n",
        "      empty.release()\n",
        "      self.consume_item(item) \n",
        "      time.sleep(random.random()) #to allow program to run a bit slower\n",
        "    \n",
        "  \n",
        "  def consume_item(self, item):\n",
        "    global queue_receivers\n",
        "    mutex_receivers.acquire()\n",
        "    queue_receivers.append(item)\n",
        "    mutex_receivers.release()"
      ],
      "execution_count": null,
      "outputs": []
    },
    {
      "cell_type": "code",
      "metadata": {
        "id": "8Ji-t20zK02q"
      },
      "source": [
        "class ReceiverMainThread(Thread):\n",
        "  def __init__(self,s = 10,t = 1,N:list = []):\n",
        "    super(ReceiverMainThread, self).__init__()\n",
        "    self.slots_number = s\n",
        "    self.theards_number = t\n",
        "    self.N = N\n",
        "    self.Workertheards = [ReceiverWorkerThread() for _ in range(self.theards_number)]\n",
        "\n",
        "  def run(self):\n",
        "    \n",
        "    for i in range(self.theards_number):\n",
        "      self.Workertheards[i].start()            \n",
        "    t1 = Thread(target=self.checkMEM)\n",
        "    t1.start()\n",
        "    t1.join()\n",
        "    for j in range(self.theards_number):    \n",
        "      self.Workertheards[j].join()\n",
        "\n",
        "\n",
        "  def checkMEM(self):\n",
        "    N_copy = self.N\n",
        "    global queue_receivers \n",
        "    global flag \n",
        "    while(N_copy):\n",
        "      num = N_copy[0]\n",
        "      mutex_receivers.acquire()\n",
        "      #print(queue_receivers)              ##TEST\n",
        "      if len(queue_receivers) >= num:      #also check ==\n",
        "        N_copy.pop(0)\n",
        "        out_str = \"\"\n",
        "        for _ in range(num):\n",
        "          out_str = out_str + queue_receivers.pop(0)\n",
        "        print(\"% GENERATED TEXT IS : \",out_str)\n",
        "      mutex_receivers.release()\n",
        "      time.sleep(random.random())\n",
        "    flag = False\n",
        "    print(\"# Program finished successfully! # \") \n",
        "    "
      ],
      "execution_count": null,
      "outputs": []
    },
    {
      "cell_type": "code",
      "metadata": {
        "id": "9Hyg-xMhdmld"
      },
      "source": [
        "if __name__ == '__main__':\n",
        "  receiver = ReceiverMainThread(10,3,[4,2,3,3])\n",
        "  sender   = SenderMainThread(10,2)\n",
        "  sender.start()\n",
        "  receiver.start()\n",
        "  sender.join()\n",
        "  receiver.join()"
      ],
      "execution_count": null,
      "outputs": []
    }
  ]
}